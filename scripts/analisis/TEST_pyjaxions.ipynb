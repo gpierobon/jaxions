{
 "cells": [
  {
   "cell_type": "code",
   "execution_count": 1,
   "metadata": {
    "collapsed": true
   },
   "outputs": [],
   "source": [
    "import matplotlib.pyplot as plt\n",
    "import sys, os\n",
    "import h5py\n",
    "import math\n",
    "sys.path.append('/Users/maturino/jaxions/jaxions/scripts/')\n",
    "import numpy as np\n",
    "from pyaxions import jaxions as pa\n",
    "import importlib"
   ]
  },
  {
   "cell_type": "code",
   "execution_count": 2,
   "metadata": {},
   "outputs": [
    {
     "data": {
      "text/plain": [
       "<module 'pyaxions.jaxions' from '/Users/maturino/jaxions/jaxions/scripts/pyaxions/jaxions.py'>"
      ]
     },
     "execution_count": 2,
     "metadata": {},
     "output_type": "execute_result"
    }
   ],
   "source": [
    "importlib.reload(pa)"
   ]
  },
  {
   "cell_type": "code",
   "execution_count": 3,
   "metadata": {},
   "outputs": [
    {
     "name": "stdout",
     "output_type": "stream",
     "text": [
      "/Users/maturino/jaxions/runs/testpow\n"
     ]
    }
   ],
   "source": [
    "cd ../../runs/testpow/"
   ]
  },
  {
   "cell_type": "code",
   "execution_count": 5,
   "metadata": {},
   "outputs": [
    {
     "name": "stdout",
     "output_type": "stream",
     "text": [
      "out/axion.m.10000 - out/m/axion.m.00109\n"
     ]
    }
   ],
   "source": [
    "# finds m files recursively in the directory given\n",
    "mfiles = pa.findmfiles('out')\n",
    "print('%s - %s'%(mfiles[0],mfiles[-1]))"
   ]
  },
  {
   "cell_type": "code",
   "execution_count": 7,
   "metadata": {},
   "outputs": [
    {
     "name": "stdout",
     "output_type": "stream",
     "text": [
      "./out/m/\n"
     ]
    }
   ],
   "source": [
    "# finds the address of the first m directory\n",
    "mdir=pa.findmdir()\n",
    "print(mdir)"
   ]
  },
  {
   "cell_type": "code",
   "execution_count": 8,
   "metadata": {},
   "outputs": [],
   "source": [
    "# moves 100001 and 10000 files from m to m/.. [out]\n",
    "pa.mv10001('./')"
   ]
  },
  {
   "cell_type": "code",
   "execution_count": 9,
   "metadata": {},
   "outputs": [
    {
     "name": "stdout",
     "output_type": "stream",
     "text": [
      "Attributes of file  <HDF5 file \"axion.m.00000\" (mode r)>\n",
      "Field type: b'Saxion'\n",
      "Precision: b'Single'\n",
      "Size: 256\n",
      "Depth: 256\n",
      "Saxion mass: 1.5\n",
      "Axion mass: 0.000316227766017\n",
      "Physical size: 0.5\n",
      "z: 0.1\n",
      "zInitial: 0.1\n",
      "zFinal: 4.5\n",
      "nSteps: 20000\n",
      "Current step: 0\n",
      "\n",
      "[/ic/]\n",
      "      Initial conditions: b'Smooth'\n",
      "      Smoothing iterations: 50\n",
      "      Smoothing constant: 0.143\n",
      "      Axion zero mode: 0.2\n",
      "      Configuration type: b'Axion n'\n",
      "\n",
      "[/potential/]\n",
      "      Lambda type: b'z2'\n",
      "      Lambda: 294912.0\n",
      "      VQcd type: b'None'\n",
      "      Damping type: b'Rho'\n",
      "      Evolution type: b'Full'\n",
      "      nQcd: 7.0\n",
      "      Gamma: 1.0\n",
      "      Shift: 1.7763568394e-15\n",
      "      Indi3: 1.0\n",
      "      z Threshold: 100.0\n",
      "      z Restore: 100.0\n",
      "\n"
     ]
    }
   ],
   "source": [
    "# displays attributes of an m file\n",
    "pa.aximcontent(mfiles[2])"
   ]
  },
  {
   "cell_type": "code",
   "execution_count": 10,
   "metadata": {},
   "outputs": [
    {
     "name": "stdout",
     "output_type": "stream",
     "text": [
      "---------------------------------------------\n",
      "gm help           \n",
      "---------------------------------------------\n",
      "ftype       Saxion/Axion      \n",
      "ct/z        conformal time    \n",
      "Size        Number of lattice points along 1D \n",
      "L           Phyiscal Box Length [ADM u.]     \n",
      "massA       Axion mass    [ADM u.]     \n",
      "massS       Saxion mass   [ADM u.]    \n",
      "msa         Saxion mass*L/N           \n",
      "eA          Energy Axion  [ADM u.]   \n",
      "eS          Energy SAxion [ADM u.]   \n",
      "eGA         Grad En Axion [ADM u.]   \n",
      "eGxA        Grad x En Axion [ADM u.]   \n",
      "eKA         Kin En Axion [ADM u.]   \n",
      "eVA         Pot En Axion [ADM u.]   \n",
      "stringN     String #points \n",
      "stwallN     Walls  #points   \n",
      "stDens      String length/Volume [ADM u.]   \n",
      "binconB     binned normalised log10 contrast         \n",
      "binconBmax  maximum log10(contrast)         \n",
      "binconBmin  maximum log10(contrast)         \n",
      "binthetaB   binned normalised theta value        \n",
      "binthetaBmax, binthetaBmin...   \n",
      "kmax        maximum momentum [int] in the 3D grid \n",
      "         \n",
      "nsp         binned number spectrum [total]\n",
      "nspK        binned number spectrum [Kinetic energy part]\n",
      "nspG        binned number spectrum [Gradient energy part]\n",
      "nspV        binned number spectrum [Potential energy part]\n",
      "         \n",
      "psp         binned power spectrum\n",
      "         \n",
      "mapmC       2D slice map of conformal PQ field\n",
      "mapvC       2D slice map of conformal PQ velocity field\n",
      "         \n",
      "maptheta    2D slice map of THETA\n",
      "mapEdens    2D slice map of ENERGY in THETA [currentlt only Axion]\n"
     ]
    }
   ],
   "source": [
    "# gets attributes and data sets from a measurement file\n",
    "# some new attributes are not yet implemented\n",
    "pa.gm(mfiles[0],'help')"
   ]
  },
  {
   "cell_type": "code",
   "execution_count": 11,
   "metadata": {},
   "outputs": [
    {
     "name": "stdout",
     "output_type": "stream",
     "text": [
      "Axion\n",
      "2.1289507171   2.1289507171\n",
      "256\n",
      "0.5\n",
      "7.0\n",
      "0.001953125\n",
      "14.0792534939\n",
      "768.0\n",
      "1.5\n",
      "0.67626640149\n",
      "[gm] Warning: file contains no Saxion energy!, set to 0.\n",
      "0.0\n",
      "0.0\n",
      "0.0\n",
      "0.0\n"
     ]
    }
   ],
   "source": [
    "# gets attributes and data sets from a measurement file\n",
    "id = 50\n",
    "print(pa.gm(mfiles[id],'ftype'))\n",
    "print(pa.gm(mfiles[id],'ct'),\" \",pa.gm(mfiles[id],'z'))\n",
    "print(pa.gm(mfiles[id],'Size'))\n",
    "print(pa.gm(mfiles[id],'L'))\n",
    "print(pa.gm(mfiles[id],'nqcd'))\n",
    "print(pa.gm(mfiles[id],'delta'))\n",
    "print(pa.gm(mfiles[id],'massA'))\n",
    "print(pa.gm(mfiles[id],'massS'))\n",
    "print(pa.gm(mfiles[id],'msa'))\n",
    "\n",
    "print(pa.gm(mfiles[id],'eA'))\n",
    "print(pa.gm(mfiles[id],'eS'))\n",
    "\n",
    "print(pa.gm(mfiles[id],'stringN'))\n",
    "print(pa.gm(mfiles[id],'stwallN'))\n",
    "print(pa.gm(mfiles[id],'stDens'))"
   ]
  },
  {
   "cell_type": "code",
   "execution_count": 12,
   "metadata": {},
   "outputs": [
    {
     "name": "stdout",
     "output_type": "stream",
     "text": [
      "binconB  [ 0.0349988  0.         0.        ...,  0.         0.         0.0349988]\n",
      "binthetaB  [ 0.0349988  0.         0.        ...,  0.         0.         0.0349988]\n",
      "kmax  222\n",
      "nspK  [  1.12981365e-02   5.56685216e-13   1.54497786e-12]\n",
      "nspG  [  0.00000000e+00   1.22086547e-13   6.26760956e-13]\n",
      "nspV  [  1.36107743e-03   2.71059041e-13   6.46313688e-13]\n",
      "nsp  [  1.26592139e-02   9.49830804e-13   2.81805250e-12]\n",
      "psp  [  2.85835179e-02   4.32078862e-12   1.46441401e-11]\n"
     ]
    }
   ],
   "source": [
    "print('binconB ',pa.gm(mfiles[id],'binconB'))\n",
    "print('binthetaB ',pa.gm(mfiles[id],'binconB'))\n",
    "\n",
    "print('kmax ',pa.gm(mfiles[id],'kmax'))\n",
    "\n",
    "print('nspK ',pa.gm(mfiles[id],'nspK')[:3])\n",
    "print('nspG ',pa.gm(mfiles[id],'nspG')[:3])\n",
    "print('nspV ',pa.gm(mfiles[id],'nspV')[:3])\n",
    "print('nsp ',pa.gm(mfiles[id],'nsp')[:3])\n",
    "\n",
    "print('psp ',pa.gm(mfiles[id],'psp')[:3])"
   ]
  },
  {
   "cell_type": "code",
   "execution_count": 13,
   "metadata": {},
   "outputs": [
    {
     "name": "stdout",
     "output_type": "stream",
     "text": [
      "0.004188790204786391 0.5235987755982988 4.1887902047863905 8.0\n"
     ]
    }
   ],
   "source": [
    "#   volume of a cube (size 2^3) contained inside a sphere of radius rR\n",
    "print(pa.volu(0.1),pa.volu(0.5),pa.volu(1),pa.volu(10))"
   ]
  },
  {
   "cell_type": "code",
   "execution_count": 14,
   "metadata": {},
   "outputs": [
    {
     "name": "stdout",
     "output_type": "stream",
     "text": [
      "28\n"
     ]
    },
    {
     "data": {
      "text/plain": [
       "array([  1.00000000e+00,   2.60000000e+01,   6.60000000e+01,\n",
       "         1.58000000e+02,   2.34000000e+02,   4.10000000e+02,\n",
       "         4.70000000e+02,   7.38000000e+02,   8.66000000e+02,\n",
       "         1.17000000e+03])"
      ]
     },
     "execution_count": 14,
     "metadata": {},
     "output_type": "execute_result"
    }
   ],
   "source": [
    "# num modes binned in my cubes [approximated but exact at high and low]\n",
    "# valid above n~100\n",
    "# prints the number of modes below which the array is exact\n",
    "pa.phasespacedensityBOX(100)[:10]"
   ]
  },
  {
   "cell_type": "code",
   "execution_count": 15,
   "metadata": {},
   "outputs": [
    {
     "data": {
      "text/plain": [
       "[0.0,\n",
       " 1.0,\n",
       " 1.4142135623730951,\n",
       " 1.7320508075688772,\n",
       " 2.0,\n",
       " 2.23606797749979,\n",
       " 2.449489742783178,\n",
       " 2.8284271247461903,\n",
       " 3.0,\n",
       " 3.1622776601683795,\n",
       " 3.3166247903554,\n",
       " 3.4641016151377544,\n",
       " 3.605551275463989,\n",
       " 3.7416573867739413,\n",
       " 4.0,\n",
       " 4.123105625617661,\n",
       " 4.242640687119285,\n",
       " 4.358898943540674,\n",
       " 4.47213595499958,\n",
       " 4.58257569495584,\n",
       " 4.69041575982343,\n",
       " 4.898979485566356,\n",
       " 5.0,\n",
       " 5.0990195135927845,\n",
       " 5.196152422706632,\n",
       " 5.385164807134504,\n",
       " 5.477225575051661,\n",
       " 5.656854249492381,\n",
       " 5.744562646538029,\n",
       " 5.830951894845301,\n",
       " 5.916079783099616,\n",
       " 6.0,\n",
       " 6.164414002968976,\n",
       " 6.4031242374328485,\n",
       " 6.48074069840786,\n",
       " 6.557438524302,\n",
       " 6.708203932499369,\n",
       " 6.928203230275509,\n",
       " 7.0710678118654755,\n",
       " 7.14142842854285,\n",
       " 7.3484692283495345,\n",
       " 7.54983443527075,\n",
       " 7.681145747868608,\n",
       " 8.12403840463596,\n",
       " 8.660254037844387]"
      ]
     },
     "execution_count": 15,
     "metadata": {},
     "output_type": "execute_result"
    }
   ],
   "source": [
    "# sorted list of modules of 3D modes up to n=N\n",
    "pa.modelist(10)"
   ]
  },
  {
   "cell_type": "code",
   "execution_count": 29,
   "metadata": {},
   "outputs": [
    {
     "data": {
      "image/png": "[encoded data removed]",
      "text/plain": [
       "<matplotlib.figure.Figure at 0x119fe4fd0>"
      ]
     },
     "metadata": {},
     "output_type": "display_data"
    }
   ],
   "source": [
    "# contrast bins\n",
    "# returns the normalised density ratio distribution, i.e. rho/<rho>\n",
    "id=104\n",
    "cont = pa.conbin(mfiles[id])\n",
    "plt.loglog(cont[:,0],cont[:,1])\n",
    "plt.show()"
   ]
  },
  {
   "cell_type": "code",
   "execution_count": 30,
   "metadata": {},
   "outputs": [
    {
     "data": {
      "image/png": "[encoded data removed]",
      "text/plain": [
       "<matplotlib.figure.Figure at 0x11a065f98>"
      ]
     },
     "metadata": {},
     "output_type": "display_data"
    }
   ],
   "source": [
    "# additional argument is the minimum number of bins [otherwise they are grouped]\n",
    "cont2 = pa.conbin(mfiles[id],100)\n",
    "plt.loglog(cont[:,0],cont[:,1])\n",
    "plt.loglog(cont2[:,0],cont2[:,1])\n",
    "plt.show()"
   ]
  },
  {
   "cell_type": "code",
   "execution_count": 31,
   "metadata": {},
   "outputs": [
    {
     "data": {
      "image/png": "[encoded data removed]",
      "text/plain": [
       "<matplotlib.figure.Figure at 0x119e80cf8>"
      ]
     },
     "metadata": {},
     "output_type": "display_data"
    }
   ],
   "source": [
    "plt.plot(cont[:,0],(cont[:,0]**6)*cont[:,1])\n",
    "plt.plot(cont2[:,0],(cont2[:,0]**6)*cont2[:,1])\n",
    "plt.show()"
   ]
  },
  {
   "cell_type": "code",
   "execution_count": 32,
   "metadata": {},
   "outputs": [
    {
     "name": "stdout",
     "output_type": "stream",
     "text": [
      "28\n"
     ]
    }
   ],
   "source": [
    "# normalised a powerspectrum to become dimensionless variance\n",
    "# needs as input the nmodes\n",
    "N = pa.gm(mfiles[id],'Size')\n",
    "L = pa.gm(mfiles[id],'L')\n",
    "nmodes = pa.phasespacedensityBOX(N)\n",
    "avdens = pa.gm(mfiles[id],'eA')\n",
    "diva = pa.normalisePspectrum(pa.gm(mfiles[id],'psp'), nmodes, avdens, N, L)"
   ]
  },
  {
   "cell_type": "code",
   "execution_count": 33,
   "metadata": {},
   "outputs": [
    {
     "data": {
      "image/png": "[encoded data removed]",
      "text/plain": [
       "<matplotlib.figure.Figure at 0x11994ca90>"
      ]
     },
     "metadata": {},
     "output_type": "display_data"
    }
   ],
   "source": [
    "plt.loglog(diva)\n",
    "plt.show()"
   ]
  },
  {
   "cell_type": "code",
   "execution_count": 34,
   "metadata": {},
   "outputs": [
    {
     "data": {
      "image/png": "[encoded data removed]",
      "text/plain": [
       "<matplotlib.figure.Figure at 0x11a3728d0>"
      ]
     },
     "metadata": {},
     "output_type": "display_data"
    }
   ],
   "source": [
    "plt.clf()\n",
    "plt.loglog(pa.gm(mfiles[id],'psp')/nmodes)\n",
    "plt.show()"
   ]
  },
  {
   "cell_type": "code",
   "execution_count": null,
   "metadata": {
    "collapsed": true
   },
   "outputs": [],
   "source": []
  }
 ],
 "metadata": {
  "kernelspec": {
   "display_name": "Python 3",
   "language": "python",
   "name": "python3"
  },
  "language_info": {
   "codemirror_mode": {
    "name": "ipython",
    "version": 3
   },
   "file_extension": ".py",
   "mimetype": "text/x-python",
   "name": "python",
   "nbconvert_exporter": "python",
   "pygments_lexer": "ipython3",
   "version": "3.6.1"
  }
 },
 "nbformat": 4,
 "nbformat_minor": 2
}
