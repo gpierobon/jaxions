{
 "cells": [
  {
   "cell_type": "markdown",
   "id": "766bcde5",
   "metadata": {},
   "source": [
    "# How to run Jaxions simulations with Python\n",
    "\n",
    "In this notebook we briefly explain the syntax to prepare and run simulations from a python console/notebok."
   ]
  },
  {
   "cell_type": "code",
   "execution_count": null,
   "id": "f909c9d2",
   "metadata": {},
   "outputs": [],
   "source": [
    "import numpy as np\n",
    "import matplotlib.pyplot as plt\n",
    "\n",
    "#Pyaxions modules\n",
    "from pyaxions import jaxions as pa\n",
    "from pyaxions import randomstrings as rs\n",
    "from pyaxions import simgen as sg"
   ]
  },
  {
   "cell_type": "markdown",
   "id": "f96f7b49",
   "metadata": {},
   "source": [
    "## Single network simulation"
   ]
  },
  {
   "cell_type": "code",
   "execution_count": null,
   "id": "8cc66d44-cc8c-401f-8174-a18f76b31d67",
   "metadata": {},
   "outputs": [],
   "source": [
    "N = 256\n",
    "L = 6.\n",
    "msa = 1.0 \n",
    "\n",
    "#generate command line flags\n",
    "rank, jax = sg.simgen(N=N, L=L, msa=msa, zRANKS=2, ic='lola', ict='lola', steps=20000, lap=2, dump = 20, dev = 'cpu', fftplan = 64, \n",
    "            nqcd=4.0, ctf=10.0, vqcd='vqcd0',  cti=0.01, meas= 0, sIter=10)"
   ]
  },
  {
   "cell_type": "markdown",
   "id": "494c5256-11d7-4656-b44e-8c772b36c698",
   "metadata": {},
   "source": [
    "For all the options try help(sg.simgen) or look at the code in scripts/pyaxions/simgen.py!"
   ]
  },
  {
   "cell_type": "code",
   "execution_count": null,
   "id": "e7f68697-30bb-4463-ac81-f9fcd6adcf0a",
   "metadata": {},
   "outputs": [],
   "source": [
    "#run the simulation\n",
    "sg.runsim(JAX=jax, MODE='run', RANK=rank, THR=1, USA='', VERB = True)"
   ]
  },
  {
   "cell_type": "markdown",
   "id": "59ea0864-dd11-4dcd-a9f1-298de5db37cb",
   "metadata": {},
   "source": [
    "## Multiple Network Simulations"
   ]
  },
  {
   "cell_type": "markdown",
   "id": "75e47b23-16f2-476d-9fc3-b136be470ef5",
   "metadata": {},
   "source": [
    "We wrote the function 'multisimgen' that can handle lists of input parameters. The only criterion is that if you put in multiple lists for parameters, they have to be the same length! It uses the i-th entry of all the lists for the i-th string of flags."
   ]
  },
  {
   "cell_type": "code",
   "execution_count": null,
   "id": "f8d9d40b-3614-4d84-b0c4-be0c16ecb41c",
   "metadata": {},
   "outputs": [],
   "source": [
    "Ns = [256, 512, 1024]\n",
    "L = 6.\n",
    "msas = [1.0, 0.5, 0.25]\n",
    "\n",
    "#Creates a list of len(N) command line flags with different parameters\n",
    "ranks, jaxs = sg.simgen(N=Ns, L=L, msa=msas, zRANKS=2, ic='lola', ict='lola', steps=20000, lap=2, dump = 20, dev = 'cpu', fftplan = 64, \n",
    "            nqcd=4.0, ctf=10.0, vqcd='vqcd0',  cti=0.01, meas= 0, sIter=10)"
   ]
  },
  {
   "cell_type": "markdown",
   "id": "76cb342b-5d0d-4c69-88a7-db1ef898cc09",
   "metadata": {},
   "source": [
    "Now we can run again! The function 'multirun' can handle input lists the same way as 'multisimgen' and features a parameter 'STAT' in case you want to repeat the same simulation STAT times in order to get some statistics. In total this covers four cases:\n",
    "1) Single configuration (in principle the same as the \"old\" runsim)\n",
    "2) Single configuration with STAT repetitions\n",
    "3) Multiple configurations with one simulation each\n",
    "4) Multiple configurations with STAT repetitions each"
   ]
  },
  {
   "cell_type": "code",
   "execution_count": null,
   "id": "7334c280-c5d0-4e48-9eb1-7bfd8ec82fb1",
   "metadata": {},
   "outputs": [],
   "source": [
    "sg.multirun(JAX=jaxs, RANK=ranks ,THR=1,USA:='', STAT=2, NAME='test', VERB = True)"
   ]
  },
  {
   "cell_type": "markdown",
   "id": "d3d41ef4-a05a-4407-9091-69f07bb45df4",
   "metadata": {},
   "source": [
    "Note that 'multirun' handles the dynamical renaming of the 'out' folders and gives information about their names after finishing each simulation."
   ]
  },
  {
   "cell_type": "markdown",
   "id": "0a222c94-d66a-46bd-88ba-e0ed29b86ccd",
   "metadata": {},
   "source": [
    "## Special Case: \"string\" initial conditions"
   ]
  },
  {
   "cell_type": "markdown",
   "id": "c8096112-97ab-483e-ba8a-a4b157d969c4",
   "metadata": {},
   "source": [
    "The 'string' IC are bit more complex, as we have to create them in $N=256$ and then extrapolate to the desired grid size. That's why we developed 'runstring' which does the appropriate resclaling automatically. For information about the different types of ICs that can be generated at the moment consider looking at the 'scripts/pyaxions/randomstrings.py' module!"
   ]
  },
  {
   "cell_type": "code",
   "execution_count": null,
   "id": "78c22f42-6aa8-4bb4-9c50-e085577368e1",
   "metadata": {},
   "outputs": [],
   "source": [
    "N = 256\n",
    "L = 6.\n",
    "msa = 1.0 \n",
    "\n",
    "RL = 0.25 # R/L: Radius of the loop in the simulation volume"
   ]
  },
  {
   "cell_type": "code",
   "execution_count": null,
   "id": "6c49bc23-0c96-423b-8bd4-efe18205ce26",
   "metadata": {},
   "outputs": [],
   "source": [
    "#Create string.dat file for circular loop (cf. randomstrings.py module)\n",
    "x,y,z = rs.onestring(N=N, RL=RL, SHAPE='l')\n",
    "\n",
    "plt.figure(figsize = (6,6))\n",
    "plt.plot(x,y, marker = 'x')\n",
    "\n",
    "plt.xlim(0,256)\n",
    "plt.ylim(0,256)"
   ]
  },
  {
   "cell_type": "code",
   "execution_count": null,
   "id": "19721a9f-2fa7-4d09-a236-0475be3615e7",
   "metadata": {},
   "outputs": [],
   "source": [
    "rank, jax = sg.simgen(N=N, L=L, msa=msa, zRANKS=2, ic='lola', ict='lola', steps=20000, lap=2, dump = 20, dev = 'cpu', fftplan = 64, \n",
    "            nqcd=4.0, ctf=10.0, vqcd='vqcd0',  cti=0.01, meas= 0, sIter=10)"
   ]
  },
  {
   "cell_type": "markdown",
   "id": "b8b7e0c9-1b8f-46fe-85b8-1ee5c5190e2c",
   "metadata": {},
   "source": [
    "Now we plug the command line flags in and let 'runstring' do the rescaling for us!"
   ]
  },
  {
   "cell_type": "code",
   "execution_count": null,
   "id": "e87eb7cc-95e3-4046-b430-4cf532a95dad",
   "metadata": {},
   "outputs": [],
   "source": [
    "sg.runstring(JAX=jax, RANK= rank, THR=1, USA=' ', OUT_CON='out_tmp', CON_OPTIONS ='--msa %f'%(msa))"
   ]
  }
 ],
 "metadata": {
  "kernelspec": {
   "display_name": "Python 3",
   "language": "python",
   "name": "python3"
  },
  "language_info": {
   "codemirror_mode": {
    "name": "ipython",
    "version": 3
   },
   "file_extension": ".py",
   "mimetype": "text/x-python",
   "name": "python",
   "nbconvert_exporter": "python",
   "pygments_lexer": "ipython3",
   "version": "3.8.13"
  }
 },
 "nbformat": 4,
 "nbformat_minor": 5
}
