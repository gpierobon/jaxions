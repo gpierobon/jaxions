{
 "cells": [
  {
   "cell_type": "code",
   "execution_count": 29,
   "metadata": {
    "collapsed": false
   },
   "outputs": [],
   "source": [
    "import numpy as np\n",
    "import matplotlib.pyplot as plt\n",
    "from __future__ import print_function\n",
    "\n",
    "from sklearn.cluster import DBSCAN\n",
    "from sklearn import metrics\n",
    "\n",
    "from random import randint\n",
    "from mpl_toolkits.mplot3d import Axes3D\n",
    "from scipy.spatial.distance import pdist\n",
    "\n",
    "import time\n",
    "import sys\n",
    "import h5py\n",
    "\n",
    "from math import pow\n",
    "from math import ceil\n",
    "\n",
    "from numba import jit\n",
    "\n",
    "from numpy import linalg as LA\n",
    "\n",
    "\n",
    "# function \n",
    "# function \n",
    "def sex (labels,labels2):\n",
    "    \n",
    "    npo = len(labels)\n",
    "        \n",
    "    #aux label matrices    \n",
    "    newlabels = np.zeros(npo,dtype=int) -2\n",
    "    labels11 = np.zeros(npo,dtype=int)\n",
    "    labels22 = np.zeros(npo,dtype=int)\n",
    "    \n",
    "    labels11[:] = labels\n",
    "    labels22[:] = labels2\n",
    "    \n",
    "\n",
    "    # list of 1st points\n",
    "    m1 = max(labels)\n",
    "    jta = np.arange(0,npo,dtype=int)\n",
    "\n",
    "    po1 = []\n",
    "    for j in set(labels):\n",
    "        if j > -1:\n",
    "            parla1 = (labels  == j)\n",
    "            po1.append(jta[parla1][0])\n",
    "    po1 = np.array(po1)\n",
    "\n",
    "    # list of 1st points\n",
    "    m2 = max(labels2)\n",
    "\n",
    "#     po2 = []\n",
    "#     for j in range(0,m2):\n",
    "#         parla2 = (labels2  == j)\n",
    "#         po2.append(jta[parla2][0])\n",
    "#     po2 = np.array(po2)\n",
    "    \n",
    "    # NOISE intersection\n",
    "    parla1 = (labels  == -1)\n",
    "    parla2 = (labels2 == -1)\n",
    "\n",
    "    newlabels[parla1*parla2]   = -1\n",
    "    labels11[parla1*parla2] = -2\n",
    "    labels22[parla1*parla2] = -2\n",
    "\n",
    "    dicta = []    \n",
    "    # clusters UNION\n",
    "    for i in set(labels): \n",
    "        if i > -1:\n",
    "            # reference point\n",
    "            posi = po1[i]\n",
    "            ll = labels[posi]\n",
    "            \n",
    "            # all the neightbours of my point in the two labeling systems\n",
    "            parla1 = (labels  == ll)\n",
    "            parla2 = (labels2 == labels2[posi])\n",
    "            \n",
    "    #       print(ll,labels[posi],labels2[posi],len(labels[parla1]),len(labels2[parla2]))\n",
    "    \n",
    "            # if the point labels two clusters, group them\n",
    "            if labels2[posi] > -1 :\n",
    "                mask = np.logical_or(parla1,parla2)\n",
    "                # some of the points in mask could be already assotiated to a cluster x \n",
    "                # actually different points could be assotiated to different clusters x0, x1, etc...\n",
    "                # all these clusters are thus the same\n",
    "                # set of newlabels in mask\n",
    "                seta = np.array(list(set(newlabels[mask])))\n",
    "                # set of mc labels\n",
    "                seta = seta[seta > -1]\n",
    "                \n",
    "                if len(seta) > 1:\n",
    "                    for lset in seta:\n",
    "                        minimask = (newlabels == lset)\n",
    "                        mask = np.logical_or(mask,minimask)\n",
    "                    ll = min(seta)\n",
    "                    #print(labels[posi], ' ojo ',seta, 'in newlabels assotiated to label',ll)                    \n",
    "                    \n",
    "                newlabels[mask] = ll\n",
    "                labels11[mask] = -2\n",
    "                labels22[mask] = -2\n",
    "                \n",
    "            # if the point labels noise [do not take all the noise!]\n",
    "            elif labels2[posi] == -1 :\n",
    "                mask = parla1 \n",
    "                newlabels[mask] = ll\n",
    "                labels11[mask] = -2\n",
    "\n",
    "            dicta.append([labels[posi],labels2[posi]])\n",
    "        \n",
    "            \n",
    "    maxrelab = max(newlabels)\n",
    "    \n",
    "    # list of labels of clusters in 2, which are noise in 1\n",
    "    # \n",
    "    rela2 = np.array(list(set(labels22)))\n",
    "    # oldstuff \n",
    "    # add them to newlabels\n",
    "    # remove them from labels_aux\n",
    "#     counter = 0 \n",
    "#     for j in rela2:\n",
    "#         if j > -1 :        \n",
    "#             parla22 = (labels22  == j)\n",
    "\n",
    "#             ll2 = j\n",
    "\n",
    "#             newlabels[parla22] = maxrelab + counter\n",
    "#             dicta.append([-1,ll2])\n",
    "#             counter += 1\n",
    "\n",
    "#             labels11[parla22] = -2\n",
    "#             labels22[parla22] = -2    \n",
    "    # however \n",
    "    counter = 0\n",
    "    \n",
    "    #print('rela2',rela2)\n",
    "    for j in rela2:\n",
    "        if j > -1 :        \n",
    "            parla22 = (labels22  == j)\n",
    "            # must anypoint of this MC need be asssotiated with a mc already present in newlabels?\n",
    "            asolabel = np.array(list(set(labels2[parla22])))\n",
    "            print(j, asolabel)\n",
    "            asolabel = asolabel[asolabel > -1]\n",
    "\n",
    "            ll2 = j\n",
    "            \n",
    "            if asolabel == []:    \n",
    "                newlabels[parla22] = maxrelab + counter\n",
    "                counter +=1 \n",
    "                dicta.append([-1,ll2])\n",
    "            elif len(asolabel) > 0:\n",
    "                lala = min(asolabel)\n",
    "\n",
    "                for l in asolabel:\n",
    "                    para = (newlabels == l)\n",
    "                    newlabels[para] = lala\n",
    "                    dicta.append([lala,j])\n",
    "                newlabels[parla22] = lala\n",
    "                \n",
    "            labels11[parla22] = -2\n",
    "            labels22[parla22] = -2    \n",
    "\n",
    "\n",
    "#     if len(labels[labels11 != -2])>0:\n",
    "#         print('warning1',labels[labels11 != -2])\n",
    "#     if len(labels[labels11 != -2])>0:    \n",
    "#         print('warning2',labels2[labels22 != -2])\n",
    "#         print('continue with l2')\n",
    "                \n",
    "    return newlabels, list(dicta)\n",
    "\n",
    "# basicstuff\n",
    "def basicstuff(data, dens_th) : \n",
    "    \n",
    "    mask = ( data > dens_th)\n",
    "    \n",
    "    bas = np.zeros((n,n,n),dtype=float)\n",
    "    linap = np.arange(0,n,dtype=float).reshape((n,1,1))\n",
    "    x_pos = bas + linap\n",
    "    y_pos = bas + linap.reshape((1,n,1))\n",
    "    z_pos = bas + linap.reshape((1,1,n))\n",
    "    del bas, linap\n",
    "    x_pos = np.reshape(x_pos,(n3,))\n",
    "    y_pos = np.reshape(y_pos,(n3,))\n",
    "    z_pos = np.reshape(z_pos,(n3,))\n",
    "\n",
    "    # position np.array\n",
    "    npo = len(x_pos[mask])\n",
    "    pos = np.empty((npo,3))\n",
    "    pos[:,0] = x_pos[mask]\n",
    "    pos[:,1] = y_pos[mask]\n",
    "    pos[:,2] = z_pos[mask]\n",
    "\n",
    "    den = data[mask]\n",
    "    maxi = max(den)\n",
    "    \n",
    "    fractionofmass = np.add.reduce(den)/n3\n",
    "    print('returned %d points containing %.1f/100 of the mass'%(npo,100*fractionofmass))\n",
    "    return npo, pos, den, fractionofmass\n",
    "\n",
    "## RELABEL ACCORDING TO MASS -> masslabels\n",
    "## RELABEL ACCORDING TO #POINTS -> numblabels\n",
    "\n",
    "def getMass(it):\n",
    "    return it[1]\n",
    "\n",
    "def getNumb(it):\n",
    "    return it[2]\n",
    "\n",
    "def relabelMN(newlabels,den):\n",
    "    \n",
    "    minilabels = np.array(list(set(newlabels)))\n",
    "\n",
    "    poso = []\n",
    "\n",
    "    #cocha = np.empty_like(minilabels)\n",
    "    for l in minilabels:\n",
    "        if l > -1:\n",
    "            class_member_mask = (newlabels == l)\n",
    "            poso.append( [l ,np.add.reduce(den[class_member_mask]), np.add.reduce(class_member_mask)] )\n",
    "    # mass = <avdensity> (delta=sizeL/n)^3\n",
    "    # cube = (sizeL/n)**3\n",
    "\n",
    "    oroM = sorted(poso,key=getMass)\n",
    "    oroN = sorted(poso,key=getNumb)\n",
    "\n",
    "    numberoflabels = len(oroM)\n",
    "\n",
    "    # relabel \n",
    "    masslabels = np.empty_like(newlabels)\n",
    "    numblabels = np.empty_like(newlabels)\n",
    "\n",
    "    # noise \n",
    "\n",
    "    masslabels[:] = newlabels[:]\n",
    "    numblabels[:] = newlabels[:]\n",
    "\n",
    "    \n",
    "    counter = 0 \n",
    "\n",
    "    for i in range(0,numberoflabels):\n",
    "        para = (newlabels == oroM[i][0])\n",
    "        masslabels[para] = numberoflabels-i-1\n",
    "\n",
    "    for i in range(0,numberoflabels):\n",
    "        para = (newlabels == oroN[i][0])\n",
    "        numblabels[para] = numberoflabels-i-1\n",
    "    \n",
    "    #print('max mass ',oroM[-1])    \n",
    "    #print('max numb ',oroN[-1])    \n",
    "\n",
    "    return masslabels, numblabels    \n",
    "\n",
    "\n",
    "## All MCs\n",
    "# build a table with \n",
    "# mass, number of points, max radius, radius from inertia, average massed radius\n",
    "def sosa(masslabels, den, labels, labels2, pos, pos2):\n",
    "    \n",
    "    fairlist = []\n",
    "    othelist = []\n",
    "    for l in set(masslabels):\n",
    "        if l > -1:\n",
    "            para = masslabels == l\n",
    "            if (len(set(labels[para])) == 1) :\n",
    "                fairlist.append([l,0])\n",
    "            elif (len(set(labels2[para])) == 1) :\n",
    "                fairlist.append([l,1])\n",
    "            else : \n",
    "                #print(l, set(labels[para]),set(labels2[para]))\n",
    "                othelist.append([l,2])\n",
    "\n",
    "    fairlist= np.array(list(fairlist))\n",
    "    othelist= np.array(list(othelist))\n",
    "    \n",
    "    dapa =[]\n",
    "    pain =[]\n",
    "    \n",
    "    for mc in range(0,len(fairlist)):\n",
    "        mcl = fairlist[mc,0]\n",
    "        #print('mc ',mcl, fairlist[mc,1])\n",
    "\n",
    "        # chech which position is better\n",
    "\n",
    "        if fairlist[mc,1] == 0:\n",
    "            cordi = pos[masslabels == mcl]\n",
    "        elif fairlist[mc,1] == 1 : \n",
    "            cordi = pos2[masslabels == mcl]\n",
    "        else:\n",
    "            print('nein!')\n",
    "\n",
    "        if len(masslabels[masslabels == mcl]) > 1: \n",
    "            lden  = den[masslabels == fairlist[mc,0]]\n",
    "\n",
    "            masa  = np.add.reduce(lden)\n",
    "            numb  = np.add.reduce(masslabels == fairlist[mc,0])\n",
    "\n",
    "            momi = np.empty_like(cordi)\n",
    "            relcor = np.empty_like(cordi)\n",
    "\n",
    "            momi[:,0] = lden*cordi[:,0]\n",
    "            momi[:,1] = lden*cordi[:,1]\n",
    "            momi[:,2] = lden*cordi[:,2]\n",
    "\n",
    "            com1 = np.add.reduce(momi)/(masa) \n",
    "\n",
    "            relcor = cordi - com1 \n",
    "            #print(com1)\n",
    "            radii = LA.norm(relcor,axis=1)\n",
    "            top = int(max(radii) ) + 1 \n",
    "            r1 = max(radii)/2\n",
    "            r2 = (np.add.reduce(radii*radii*lden)/masa)**0.5\n",
    "            r3 = np.add.reduce(radii*lden)/masa\n",
    "\n",
    "            bins=range(0,top)\n",
    "\n",
    "            bin_d = (np.histogram(radii, bins, weights=lden)[0])\n",
    "\n",
    "            ms = np.cumsum(bin_d/masa)\n",
    "            ms = np.append(ms,1.)\n",
    "\n",
    "    #        print(ms, np.add.reduce(bin_d)/masa)\n",
    "\n",
    "            per1 = 0.9\n",
    "            rad = np.arange(0,len(ms))\n",
    "            low = ms[ms<per1][-1]\n",
    "            rr1 = rad[ms<per1][-1]\n",
    "            hig = ms[ms>per1][0]\n",
    "            rr2 = rad[ms>per1][0]\n",
    "            #print(rr1, rr2, low, hig)\n",
    "            r4 = rr1 + (per1-low)*(rr2-rr1)/(hig-low)\n",
    "\n",
    "            # sphericity\n",
    "            misa = np.identity(3)*0\n",
    "            for i in range(0,len(relcor)):\n",
    "                fus = relcor[i]\n",
    "                misa = misa + lden[i]*(np.dot(fus,fus)*np.identity(3) - np.outer(fus,fus))\n",
    "            maino = np.sqrt(LA.eigvalsh(misa)/masa)\n",
    "\n",
    "            dapa.append([masa,r1,r2,r3,r4,numb])\n",
    "            pain.append(maino)\n",
    "        \n",
    "    dapa = np.array(list(dapa))\n",
    "    pain = np.array(list(pain))\n",
    "    return dapa, pain"
   ]
  },
  {
   "cell_type": "code",
   "execution_count": 57,
   "metadata": {
    "collapsed": true
   },
   "outputs": [],
   "source": [
    "#parameters for DBSCAN\n",
    "eps=2 #was 5\n",
    "min_samples=20\n",
    "algorithm='kd_tree'\n",
    "n_jobs=-1"
   ]
  },
  {
   "cell_type": "code",
   "execution_count": 58,
   "metadata": {
    "collapsed": true
   },
   "outputs": [],
   "source": [
    "data_file = '../../data/L3_1536_256(WKB)/out/m/axion.r.00039_2'\n",
    "file = h5py.File(data_file, 'r')\n",
    "\n",
    "n = file.attrs[u'Size']\n",
    "sizeL = file.attrs[u'Physical size']\n",
    "\n",
    "n2 = n*n\n",
    "n3 = n2*n\n",
    "\n",
    "data = file['energy/density'].value.reshape(n3)"
   ]
  },
  {
   "cell_type": "code",
   "execution_count": 71,
   "metadata": {
    "collapsed": false
   },
   "outputs": [
    {
     "name": "stdout",
     "output_type": "stream",
     "text": [
      "returned 332235 points containing 17.3/100 of the mass\n"
     ]
    }
   ],
   "source": [
    "dens_th = 5\n",
    "npo, pos, den, massfraction = basicstuff(data, dens_th)"
   ]
  },
  {
   "cell_type": "code",
   "execution_count": 60,
   "metadata": {
    "collapsed": false
   },
   "outputs": [
    {
     "name": "stdout",
     "output_type": "stream",
     "text": [
      "clustering returned 103 clusters and took 1.142 s\n",
      "clustering Z-shifted returned 113 clusters and took 1.256 s\n"
     ]
    }
   ],
   "source": [
    "start = time.time()\n",
    "db = DBSCAN(eps=eps, min_samples=min_samples, algorithm=algorithm, n_jobs=n_jobs).fit(pos)\n",
    "labels = np.array(db.labels_)\n",
    "end = time.time()\n",
    "nmc1 = len(set(labels))\n",
    "print('clustering returned %d clusters and took %1.3f s' %(nmc1,end-start))\n",
    "\n",
    "nh = n//2\n",
    "\n",
    "# shift coordinates of the grid by n/2 in Z and make mod[256]\n",
    "pos2 = (pos + [nh,nh,nh])%n\n",
    "\n",
    "start = time.time()\n",
    "db2 = DBSCAN(eps=eps, min_samples=min_samples, algorithm=algorithm, n_jobs=n_jobs).fit(pos2)\n",
    "labels2 = np.array(db2.labels_)\n",
    "nmc2 = len(set(labels2))\n",
    "end = time.time()\n",
    "print('clustering Z-shifted returned %d clusters and took %1.3f s' %(nmc2,end-start))"
   ]
  },
  {
   "cell_type": "code",
   "execution_count": 61,
   "metadata": {
    "collapsed": false
   },
   "outputs": [
    {
     "name": "stdout",
     "output_type": "stream",
     "text": [
      "64 [64]\n",
      "97 [97]\n",
      "101 [101]\n",
      "71 [71]\n",
      "75 [75]\n",
      "12 [12]\n",
      "13 [13]\n",
      "78 [78]\n",
      "84 [84]\n",
      "91 [91]\n"
     ]
    }
   ],
   "source": [
    "newlabels, dicta = sex(labels,labels2)"
   ]
  },
  {
   "cell_type": "code",
   "execution_count": 62,
   "metadata": {
    "collapsed": false
   },
   "outputs": [],
   "source": [
    "masslabels, numblabels = relabelMN(newlabels,den)"
   ]
  },
  {
   "cell_type": "code",
   "execution_count": 63,
   "metadata": {
    "collapsed": false
   },
   "outputs": [],
   "source": [
    "dapa, pain = sosa(masslabels, den, labels, labels2, pos, pos2)"
   ]
  },
  {
   "cell_type": "code",
   "execution_count": 64,
   "metadata": {
    "collapsed": false
   },
   "outputs": [
    {
     "data": {
      "image/png": "[encoded data removed]",
      "text/plain": [
       "<matplotlib.figure.Figure at 0x1197669b0>"
      ]
     },
     "metadata": {},
     "output_type": "display_data"
    }
   ],
   "source": [
    "delta = sizeL/n\n",
    "unitmass = 2e-13 * (delta)**3\n",
    "\n",
    "plt.yscale('log')\n",
    "plt.xscale('log')\n",
    "plt.ylabel('Radius [R/H_1R_1]')\n",
    "plt.xlabel('Mass [M sun]')\n",
    "\n",
    "# plt.scatter(delta*dapa[:,1],unitmass*dapa[:,0], c='blue')\n",
    "# plt.scatter(delta*dapa[:,2],unitmass*dapa[:,0], c='red')\n",
    "# plt.scatter(delta*dapa[:,3],unitmass*dapa[:,0], c='green')\n",
    "plt.scatter(unitmass*dapa[:,0],delta*dapa[:,3], c='green')\n",
    "\n",
    "x = delta*np.linspace(1,30,10)\n",
    "\n",
    "plt.plot( (2.e-13)*x**3., x, c='blue', alpha=0.2)\n",
    "plt.plot( (2.e-12)*x**3., x, c='blue', alpha=0.2)\n",
    "plt.plot( (1.e-11)*x**3., x, c='blue', alpha=0.2)\n",
    "plt.show()"
   ]
  },
  {
   "cell_type": "code",
   "execution_count": 65,
   "metadata": {
    "collapsed": false
   },
   "outputs": [],
   "source": [
    "ecc = []\n",
    "for i in range(0,len(pain)):\n",
    "    mix = min(pain[i])\n",
    "    man = max(pain[i])\n",
    "    ecc.append((man-mix)/(man+mix))\n",
    "    # print(mix, man)"
   ]
  },
  {
   "cell_type": "code",
   "execution_count": 66,
   "metadata": {
    "collapsed": false
   },
   "outputs": [
    {
     "data": {
      "image/png": "[encoded data removed]",
      "text/plain": [
       "<matplotlib.figure.Figure at 0x1199a99b0>"
      ]
     },
     "metadata": {},
     "output_type": "display_data"
    }
   ],
   "source": [
    "plt.xlabel('eccentricity I3-I1/I3+I1')\n",
    "\n",
    "plt.hist(ecc,bins=np.linspace(0,1,20))\n",
    "plt.show()"
   ]
  },
  {
   "cell_type": "code",
   "execution_count": 67,
   "metadata": {
    "collapsed": false
   },
   "outputs": [
    {
     "data": {
      "image/png": "[encoded data removed]",
      "text/plain": [
       "<matplotlib.figure.Figure at 0x1198a49b0>"
      ]
     },
     "metadata": {},
     "output_type": "display_data"
    }
   ],
   "source": [
    "plt.ylabel('eccentricity I3-I1/I3+I1')\n",
    "plt.xlabel('Mass [M sun]')\n",
    "\n",
    "plt.xscale('log')\n",
    "plt.scatter(unitmass*dapa[:,0],ecc, c='green')\n",
    "\n",
    "plt.show()"
   ]
  },
  {
   "cell_type": "code",
   "execution_count": 68,
   "metadata": {
    "collapsed": false
   },
   "outputs": [
    {
     "data": {
      "image/png": "[encoded data removed]",
      "text/plain": [
       "<matplotlib.figure.Figure at 0x12aafe898>"
      ]
     },
     "metadata": {},
     "output_type": "display_data"
    }
   ],
   "source": [
    "plt.ylabel('Radius [R/H_1R_1]')\n",
    "plt.xlabel('eccentricity I3-I1/I3+I1')\n",
    "\n",
    "plt.yscale('log')\n",
    "plt.scatter(ecc,delta*dapa[:,3], c='green')\n",
    "\n",
    "plt.show()"
   ]
  },
  {
   "cell_type": "markdown",
   "metadata": {},
   "source": [
    "# MULTITHRESHOLD?"
   ]
  },
  {
   "cell_type": "code",
   "execution_count": 16,
   "metadata": {
    "collapsed": true
   },
   "outputs": [],
   "source": [
    "data_file = '../../data/L3_1536_256(WKB)/out/m/axion.r.00039_2'\n",
    "file = h5py.File(data_file, 'r')\n",
    "\n",
    "n = file.attrs[u'Size']\n",
    "sizeL = file.attrs[u'Physical size']\n",
    "\n",
    "n2 = n*n\n",
    "n3 = n2*n\n",
    "\n",
    "data = file['energy/density'].value.reshape(n3)"
   ]
  },
  {
   "cell_type": "code",
   "execution_count": 17,
   "metadata": {
    "collapsed": false
   },
   "outputs": [],
   "source": [
    "thresholdtab = np.array([50,40,30,20,18,15,12,10,8,6,5,4])"
   ]
  },
  {
   "cell_type": "code",
   "execution_count": 18,
   "metadata": {
    "collapsed": false
   },
   "outputs": [
    {
     "name": "stdout",
     "output_type": "stream",
     "text": [
      "clustering Z-shifted took 0.005 s\n",
      "rela2 [-2]\n",
      "clustering Z-shifted took 0.015 s\n",
      "rela2 [-2]\n",
      "clustering Z-shifted took 0.092 s\n",
      "rela2 [-2]\n",
      "clustering Z-shifted took 0.441 s\n",
      "rela2 [48 -2 -1]\n",
      "48 [48]\n",
      "clustering Z-shifted took 0.488 s\n",
      "rela2 [53 -2 -1]\n",
      "53 [53]\n",
      "clustering Z-shifted took 0.721 s\n",
      "rela2 [70 76 77 78 21 -1 -2]\n",
      "70 [70]\n",
      "76 [76]\n",
      "77 [77]\n",
      "78 [78]\n",
      "21 [21]\n",
      "clustering Z-shifted took 1.330 s\n",
      "rela2 [66 73 -2 -1 30]\n",
      "66 [66]\n",
      "73 [73]\n",
      "30 [30]\n",
      "clustering Z-shifted took 2.185 s\n",
      "rela2 [ 64  97 101  71  75  12  13  78  84  -1  91  -2]\n",
      "64 [64]\n",
      "97 [97]\n",
      "101 [101]\n",
      "71 [71]\n",
      "75 [75]\n",
      "12 [12]\n",
      "13 [13]\n",
      "78 [78]\n",
      "84 [84]\n",
      "91 [91]\n",
      "clustering Z-shifted took 3.459 s\n",
      "rela2 [48 -2 -1]\n",
      "48 [48]\n",
      "clustering Z-shifted took 7.984 s\n",
      "rela2 [-2 71]\n",
      "71 [71]\n",
      "clustering Z-shifted took 12.933 s\n",
      "104  ojo  [100   6] in newlabels assotiated to label 6\n",
      "rela2 [262 263 295  73 205 273 277  86  -1  28  -2]\n",
      "262 [262]\n",
      "263 [263]\n",
      "295 [295]\n",
      "73 [73]\n",
      "205 [205]\n",
      "273 [273]\n",
      "277 [277]\n",
      "86 [86]\n",
      "28 [28]\n",
      "clustering Z-shifted took 22.260 s\n",
      "64  ojo  [58 44] in newlabels assotiated to label 44\n",
      "75  ojo  [73 44] in newlabels assotiated to label 44\n",
      "207  ojo  [ 12 118] in newlabels assotiated to label 12\n",
      "rela2 [ 64 385 258   3   5 168 170 107 330  46 368  -1 280 410 349 253  -2]\n",
      "64 [64]\n",
      "385 [385]\n",
      "258 [258]\n",
      "3 [3]\n",
      "5 [5]\n",
      "168 [168]\n",
      "170 [170]\n",
      "107 [107]\n",
      "330 [330]\n",
      "46 [46]\n",
      "368 [368]\n",
      "280 [280]\n",
      "410 [410]\n",
      "349 [349]\n",
      "253 [253]\n"
     ]
    }
   ],
   "source": [
    "apa = []\n",
    "\n",
    "for dens_th in thresholdtab:\n",
    "\n",
    "    npo, pos, den = basicstuff(data, dens_th)\n",
    "\n",
    "    start = time.time()\n",
    "    db = DBSCAN(eps=eps, min_samples=min_samples, algorithm=algorithm, n_jobs=n_jobs).fit(pos)\n",
    "    labels = np.array(db.labels_)\n",
    "    end = time.time()\n",
    "    #print('clustering Z-shifted took %1.3f s' %(end-start))\n",
    "\n",
    "    nh = n//2\n",
    "\n",
    "    # shift coordinates of the grid by n/2 in Z and make mod[256]\n",
    "    pos2 = (pos + [nh,nh,nh])%n\n",
    "\n",
    "    #start = time.time()\n",
    "    db2 = DBSCAN(eps=eps, min_samples=min_samples, algorithm=algorithm, n_jobs=n_jobs).fit(pos2)\n",
    "    labels2 = np.array(db2.labels_)\n",
    "    end = time.time()\n",
    "    print('clustering Z-shifted took %1.3f s' %(end-start))\n",
    "\n",
    "    newlabels, dicta = sex(labels,labels2)\n",
    "    \n",
    "    apa.append([dens_th,len(set(newlabels)),end-start])"
   ]
  },
  {
   "cell_type": "code",
   "execution_count": 19,
   "metadata": {
    "collapsed": true
   },
   "outputs": [],
   "source": [
    "apa=np.array(apa)"
   ]
  },
  {
   "cell_type": "code",
   "execution_count": 20,
   "metadata": {
    "collapsed": false
   },
   "outputs": [
    {
     "data": {
      "image/png": "[encoded data removed]",
      "text/plain": [
       "<matplotlib.figure.Figure at 0x11964dac8>"
      ]
     },
     "metadata": {},
     "output_type": "display_data"
    }
   ],
   "source": [
    "plt.yscale('log')\n",
    "plt.xscale('log')\n",
    "plt.plot(apa[:,0],apa[:,1],marker='.')\n",
    "plt.show()"
   ]
  },
  {
   "cell_type": "code",
   "execution_count": 21,
   "metadata": {
    "collapsed": false
   },
   "outputs": [
    {
     "data": {
      "image/png": "[encoded data removed]",
      "text/plain": [
       "<matplotlib.figure.Figure at 0x11999eb70>"
      ]
     },
     "metadata": {},
     "output_type": "display_data"
    }
   ],
   "source": [
    "plt.yscale('log')\n",
    "plt.plot(apa[:,0],apa[:,2],marker='.')\n",
    "plt.show()"
   ]
  },
  {
   "cell_type": "code",
   "execution_count": null,
   "metadata": {
    "collapsed": true
   },
   "outputs": [],
   "source": []
  }
 ],
 "metadata": {
  "kernelspec": {
   "display_name": "Python 3",
   "language": "python",
   "name": "python3"
  },
  "language_info": {
   "codemirror_mode": {
    "name": "ipython",
    "version": 3
   },
   "file_extension": ".py",
   "mimetype": "text/x-python",
   "name": "python",
   "nbconvert_exporter": "python",
   "pygments_lexer": "ipython3",
   "version": "3.6.0"
  }
 },
 "nbformat": 4,
 "nbformat_minor": 2
}
